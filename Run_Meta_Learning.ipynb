{
 "cells": [
  {
   "cell_type": "code",
   "execution_count": 1,
   "metadata": {},
   "outputs": [],
   "source": [
    "%load_ext autoreload\n",
    "%autoreload 2"
   ]
  },
  {
   "cell_type": "code",
   "execution_count": 2,
   "metadata": {},
   "outputs": [],
   "source": [
    "import numpy as np\n",
    "import time\n",
    "import yaml\n",
    "from datetime import datetime\n",
    "import torch"
   ]
  },
  {
   "cell_type": "markdown",
   "metadata": {},
   "source": [
    "# 1: Choose innerloop and outerloop"
   ]
  },
  {
   "cell_type": "code",
   "execution_count": 8,
   "metadata": {},
   "outputs": [],
   "source": [
    "from Innerloops.Innerloop_bg_TIF_IE_6pPol import *\n",
    "innerloop_name = 'Innerloop_bg_TIF_IE_6pPol'\n",
    "####  Example options:\n",
    "# Stability task, only I-to-E plasticity, small polynomial rule: 'Innerloop_bg_TIF_IE_6pPol'\n",
    "# Familiarity detection task, only I-to-E plasticity, small polynomial rule: 'Innerloop_FamDet_Lbasic_TIF_IE_6pPol'\n",
    "# Stability task, only I-to-E plasticity, MLP rule:  'Innerloop_bg_CVAIF_IE_T4wvceciMLP'\n",
    "# Stability task, only I-to-E plasticity, big polynomial rule: 'Innerloop_bg_CVAIF_IE_T4wvceciPol'\n",
    " \n",
    "from Outerloops.Outerloop_CMA_ES import Outerloop_CMA_ES\n",
    "outerloop_name = \"Outerloop_CMA_ES\""
   ]
  },
  {
   "cell_type": "markdown",
   "metadata": {},
   "source": [
    "# 2: Innerloop parameters"
   ]
  },
  {
   "cell_type": "markdown",
   "metadata": {
    "heading_collapsed": true
   },
   "source": [
    "#### Stability task, only I-to-E plasticity, small polynomial rule"
   ]
  },
  {
   "cell_type": "code",
   "execution_count": 9,
   "metadata": {
    "hidden": true
   },
   "outputs": [],
   "source": [
    "if innerloop_name == 'Innerloop_bg_TIF_IE_6pPol':\n",
    "    \n",
    "    #load most task parameters from yaml\n",
    "    task_name = \"bg_TIF_IE_6pPol\"\n",
    "    with open(\"Innerloops/tasks_configs/%s.yaml\" % task_name, \"r\") as f:\n",
    "        innerloop_params = yaml.load(f, Loader=yaml.Loader)\n",
    "\n",
    "    #initial plasticity rule\n",
    "    A_chosen = [np.log(0.01), np.log(0.01), 0, 0, 0, 0]"
   ]
  },
  {
   "cell_type": "markdown",
   "metadata": {
    "heading_collapsed": true
   },
   "source": [
    "#### Familiarity detection task, only I-to-E plasticity, small polynomial rule"
   ]
  },
  {
   "cell_type": "code",
   "execution_count": null,
   "metadata": {
    "hidden": true
   },
   "outputs": [],
   "source": [
    "if innerloop_name == 'Innerloop_FamDet_Lbasic_TIF_IE_6pPol':\n",
    "    \n",
    "    #load most task parameters from yaml\n",
    "    task_name = \"FamDet_Lbasic_TIF_IE_6pPol\"\n",
    "    with open(\"Innerloops/tasks_configs/%s.yaml\" % task_name, \"r\") as f:\n",
    "        innerloop_params = yaml.load(f, Loader=yaml.Loader)\n",
    "\n",
    "    #initial plasticity rule\n",
    "    A_chosen = [np.log(0.01), np.log(0.01), 0, 0, 0, 0]"
   ]
  },
  {
   "cell_type": "markdown",
   "metadata": {
    "heading_collapsed": true
   },
   "source": [
    "#### Stability task, only I-to-E plasticity, MLP rule"
   ]
  },
  {
   "cell_type": "code",
   "execution_count": null,
   "metadata": {
    "hidden": true,
    "scrolled": false
   },
   "outputs": [],
   "source": [
    "if innerloop_name == 'Innerloop_bg_CVAIF_IE_T4wvceciMLP':\n",
    "    task_name = \"bg_CVAIF_IE_T4wvceciMLP\"\n",
    "    with open(\"Innerloops/tasks_configs/%s.yaml\" % task_name, \"r\") as f:\n",
    "        innerloop_params = yaml.load(f, Loader=yaml.Loader)\n",
    "    \n",
    "    # Choose initial plasticity rule\n",
    "    net = torch.load(\"Saves/test_model\")\n",
    "    nh1 = net.l1.weight.shape[0]\n",
    "    nh2 = net.l2.weight.shape[0]\n",
    "    array_rule = convert_wmats_to_vector_for_auryn(eta=0.1,\n",
    "                                  tau_pre1=0.01,\n",
    "                                  tau_pre2=0.01,\n",
    "                                  tau_post1=0.1,\n",
    "                                  tau_post2=0.1,\n",
    "                                  Wh1=net.l1.weight,\n",
    "                                  Wh2=net.l2.weight,\n",
    "                                  Wpre=torch.concat((net.l3.weight, net.l3.bias.reshape(-1,1)), dim=1),\n",
    "                                  Wpost=torch.concat((net.l3.weight, net.l3.bias.reshape(-1,1)), dim=1))\n",
    "    rule_constant_part =  array_rule[1:-(nh2+1)*2]\n",
    "    innerloop_params['nh1']=nh1; innerloop_params['nh2']=nh2\n",
    "    innerloop_params['rule_constant_part']=rule_constant_part\n",
    "    \n",
    "    #only learn eta and the final layer weights\n",
    "    A_chosen = np.concatenate(([array_rule[0]], array_rule[-(nh2+1)*2:]))\n",
    "    print(A_chosen.shape, A_chosen)"
   ]
  },
  {
   "cell_type": "markdown",
   "metadata": {
    "heading_collapsed": true
   },
   "source": [
    "#### Stability task, only I-to-E plasticity, big polynomial rule"
   ]
  },
  {
   "cell_type": "code",
   "execution_count": null,
   "metadata": {
    "hidden": true
   },
   "outputs": [],
   "source": [
    "if innerloop_name == 'Innerloop_bg_CVAIF_IE_T4wvceciPol':\n",
    "    task_name = \"bg_CVAIF_IE_T4wvceciPol\"\n",
    "    with open(\"Innerloops/tasks_configs/%s.yaml\" % task_name, \"r\") as f:\n",
    "        innerloop_params = yaml.load(f, Loader=yaml.Loader)\n",
    "    \n",
    "    # random initial rule (CMA does the jitter anyway)\n",
    "    A_chosen = np.zeros(21)\n",
    "    \n",
    "    print(A_chosen.shape, A_chosen)"
   ]
  },
  {
   "cell_type": "markdown",
   "metadata": {},
   "source": [
    "# 3: Outerloop parameters"
   ]
  },
  {
   "cell_type": "code",
   "execution_count": 10,
   "metadata": {},
   "outputs": [],
   "source": [
    "if outerloop_name == \"Outerloop_CMA_ES\":\n",
    "    # to play with\n",
    "    n_meta_it = 1\n",
    "    reg = 0\n",
    "    sigma = 0.001\n",
    "    lambd = 10 #12 options \"auto\" or int\n",
    "\n",
    "    outerloop_params = dict([('A', A_chosen),  (\"sigma\", sigma), (\"reg\", reg), (\"lambd\", lambd), ('inner_loop', innerloop_name)])"
   ]
  },
  {
   "cell_type": "markdown",
   "metadata": {},
   "source": [
    "# 4: Meta-learning"
   ]
  },
  {
   "cell_type": "code",
   "execution_count": 11,
   "metadata": {},
   "outputs": [
    {
     "data": {
      "text/plain": [
       "{'auryn_sim_dir': 'Innerloops/cpp_innerloops/',\n",
       " 'hardware': 'local',\n",
       " 'Nd': 10,\n",
       " 'Lr': 6,\n",
       " 'NE': 8000,\n",
       " 'NI': 2000,\n",
       " 'wee': 0.03,\n",
       " 'wei': 0.03,\n",
       " 'wie_low': 0.0,\n",
       " 'wie_high': 0.3,\n",
       " 'wii': 0.3,\n",
       " 'eta': 0.01,\n",
       " 'wmax_low': 2,\n",
       " 'wmax_high': 3,\n",
       " 'sparseness': 0.02,\n",
       " 'length_training_phase': 30,\n",
       " 'length_scoring_phase': 20,\n",
       " 'length_scoring_window': 5,\n",
       " 'target': 10,\n",
       " 'N_inputs': 5000,\n",
       " 'sparseness_poisson': 0.05,\n",
       " 'w_poisson': 0.1,\n",
       " 'poisson_rate_low': 1,\n",
       " 'poisson_rate_high': 5,\n",
       " 'min_rate_checker': 0.1,\n",
       " 'max_rate_checker': 100,\n",
       " 'tau_checker': 1,\n",
       " 'workdir': 'Innerloops/cpp_innerloops/sim_workdir/'}"
      ]
     },
     "execution_count": 11,
     "metadata": {},
     "output_type": "execute_result"
    }
   ],
   "source": [
    "innerloop_params"
   ]
  },
  {
   "cell_type": "code",
   "execution_count": 16,
   "metadata": {},
   "outputs": [
    {
     "name": "stdout",
     "output_type": "stream",
     "text": [
      "optimising Innerloop_bg_TIF_IE_6pPol with Outerloop_CMA_ES\n",
      "Initialisation took 0.0s\n"
     ]
    }
   ],
   "source": [
    "print(\"optimising\", innerloop_name, \"with\", outerloop_name)\n",
    "start = time.time()\n",
    "outerloop = eval(outerloop_name + \"(outerloop_params, innerloop_params)\")\n",
    "print(\"Initialisation took \" + str(np.round(time.time()-start,2)) + \"s\")"
   ]
  },
  {
   "cell_type": "code",
   "execution_count": null,
   "metadata": {
    "scrolled": false
   },
   "outputs": [],
   "source": [
    "start = time.time()\n",
    "outerloop.run(n_meta_it) \n",
    "print(\"Execution took \" + str(np.round(time.time()-start,2)) + \"s\")\n",
    "outerloop.plot()\n",
    "print(outerloop)\n",
    "print(outerloop.innerloop)"
   ]
  },
  {
   "cell_type": "code",
   "execution_count": null,
   "metadata": {},
   "outputs": [],
   "source": [
    "today = datetime.now()\n",
    "d2 = today.strftime(\"%y%m%d%H%M\")\n",
    "np.savez(d2 + \"_\" + task_name + \"_CMA\", loss_hist=outerloop.loss_hist, rule_hist=outerloop.rule_hist, C_hist=outerloop.C_hist)"
   ]
  }
 ],
 "metadata": {
  "kernelspec": {
   "display_name": "Python 3 (ipykernel)",
   "language": "python",
   "name": "python3"
  },
  "language_info": {
   "codemirror_mode": {
    "name": "ipython",
    "version": 3
   },
   "file_extension": ".py",
   "mimetype": "text/x-python",
   "name": "python",
   "nbconvert_exporter": "python",
   "pygments_lexer": "ipython3",
   "version": "3.12.3"
  }
 },
 "nbformat": 4,
 "nbformat_minor": 2
}
